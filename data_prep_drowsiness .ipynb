{
 "cells": [
  {
   "cell_type": "code",
   "execution_count": 2,
   "metadata": {},
   "outputs": [],
   "source": [
    "import os\n",
    "import glob\n",
    "import shutil\n",
    "import random\n",
    "from tqdm import tqdm"
   ]
  },
  {
   "cell_type": "code",
   "execution_count": 4,
   "metadata": {},
   "outputs": [
    {
     "name": "stderr",
     "output_type": "stream",
     "text": [
      "0it [00:00, ?it/s]\n",
      "100%|███████████████████████████████████████████████████████████████████████████████████████████████| 3242/3242 [00:32<00:00, 101.19it/s]\n",
      "100%|███████████████████████████████████████████████████████████████████████████████████████████████| 1114/1114 [00:10<00:00, 101.48it/s]\n",
      "100%|█████████████████████████████████████████████████████████████████████████████████████████████████| 679/679 [00:06<00:00, 104.99it/s]\n",
      "100%|████████████████████████████████████████████████████████████████████████████████████████████████| 1069/1069 [00:15<00:00, 67.39it/s]\n",
      "100%|█████████████████████████████████████████████████████████████████████████████████████████████████| 736/736 [00:04<00:00, 159.08it/s]\n",
      "100%|███████████████████████████████████████████████████████████████████████████████████████████████| 1012/1012 [00:06<00:00, 146.63it/s]\n",
      "100%|█████████████████████████████████████████████████████████████████████████████████████████████████| 624/624 [00:04<00:00, 154.81it/s]\n",
      "100%|█████████████████████████████████████████████████████████████████████████████████████████████████| 832/832 [00:05<00:00, 147.55it/s]\n",
      "100%|█████████████████████████████████████████████████████████████████████████████████████████████████| 387/387 [00:02<00:00, 168.34it/s]\n",
      "100%|█████████████████████████████████████████████████████████████████████████████████████████████████| 399/399 [00:02<00:00, 163.80it/s]\n",
      "100%|███████████████████████████████████████████████████████████████████████████████████████████████| 1648/1648 [00:11<00:00, 139.25it/s]\n",
      "100%|███████████████████████████████████████████████████████████████████████████████████████████████| 8728/8728 [00:59<00:00, 147.53it/s]\n",
      "100%|███████████████████████████████████████████████████████████████████████████████████████████████| 3605/3605 [00:23<00:00, 151.33it/s]\n",
      "100%|███████████████████████████████████████████████████████████████████████████████████████████████| 8884/8884 [01:02<00:00, 142.19it/s]\n",
      "100%|███████████████████████████████████████████████████████████████████████████████████████████████| 1132/1132 [00:07<00:00, 153.04it/s]\n",
      "100%|███████████████████████████████████████████████████████████████████████████████████████████████| 1889/1889 [00:13<00:00, 143.39it/s]\n",
      "100%|███████████████████████████████████████████████████████████████████████████████████████████████| 1648/1648 [00:10<00:00, 157.10it/s]\n",
      "100%|███████████████████████████████████████████████████████████████████████████████████████████████| 4410/4410 [00:29<00:00, 151.11it/s]\n",
      "100%|███████████████████████████████████████████████████████████████████████████████████████████████| 6175/6175 [00:43<00:00, 141.69it/s]\n",
      "100%|█████████████████████████████████████████████████████████████████████████████████████████████████| 704/704 [00:05<00:00, 129.14it/s]\n",
      "100%|█████████████████████████████████████████████████████████████████████████████████████████████████| 987/987 [00:06<00:00, 142.25it/s]\n",
      "100%|█████████████████████████████████████████████████████████████████████████████████████████████████| 382/382 [00:03<00:00, 113.66it/s]\n",
      "100%|█████████████████████████████████████████████████████████████████████████████████████████████████| 522/522 [00:03<00:00, 142.05it/s]\n",
      "100%|█████████████████████████████████████████████████████████████████████████████████████████████████| 752/752 [00:05<00:00, 128.01it/s]\n",
      "100%|███████████████████████████████████████████████████████████████████████████████████████████████| 1502/1502 [00:10<00:00, 138.65it/s]\n",
      "100%|███████████████████████████████████████████████████████████████████████████████████████████████| 1246/1246 [00:09<00:00, 134.68it/s]\n",
      "100%|█████████████████████████████████████████████████████████████████████████████████████████████████| 665/665 [00:05<00:00, 119.68it/s]\n",
      "100%|█████████████████████████████████████████████████████████████████████████████████████████████████| 736/736 [00:05<00:00, 142.98it/s]\n",
      "100%|███████████████████████████████████████████████████████████████████████████████████████████████| 1393/1393 [00:09<00:00, 140.90it/s]\n",
      "100%|███████████████████████████████████████████████████████████████████████████████████████████████| 1384/1384 [00:10<00:00, 137.13it/s]\n",
      "100%|███████████████████████████████████████████████████████████████████████████████████████████████| 1738/1738 [00:12<00:00, 135.65it/s]\n",
      "100%|███████████████████████████████████████████████████████████████████████████████████████████████| 6162/6162 [00:45<00:00, 135.96it/s]\n",
      "100%|█████████████████████████████████████████████████████████████████████████████████████████████████| 681/681 [00:04<00:00, 138.85it/s]\n",
      "100%|█████████████████████████████████████████████████████████████████████████████████████████████████| 739/739 [00:05<00:00, 133.07it/s]\n",
      "100%|█████████████████████████████████████████████████████████████████████████████████████████████████| 642/642 [00:04<00:00, 142.36it/s]\n",
      "100%|███████████████████████████████████████████████████████████████████████████████████████████████| 6193/6193 [00:45<00:00, 135.24it/s]\n",
      "100%|█████████████████████████████████████████████████████████████████████████████████████████████| 10257/10257 [01:12<00:00, 141.75it/s]\n"
     ]
    }
   ],
   "source": [
    "raw_data = 'F:\\hamza_darling\\DD\\mrlEyes_2018_01'\n",
    "for dirpath, dirname, filename in os.walk(raw_data):\n",
    "    for file in tqdm([f for f in filename if f.endswith('.png')]):\n",
    "        if file.split('_')[4] == '0':\n",
    "            path='F:/hamza_darling/DD/Prepared Data/Data/train/closed'\n",
    "            if not os.path.exists(path):\n",
    "                os.makedirs(path)\n",
    "            shutil.copy(src=dirpath + '/' + file, dst= path)\n",
    "        elif file.split('_')[4] == '1':\n",
    "            path='F:/hamza_darling/DD/Prepared Data/Data/train/open'\n",
    "            if not os.path.exists(path):\n",
    "                os.makedirs(path)\n",
    "            shutil.copy(src=dirpath + '/' + file, dst= path)        "
   ]
  },
  {
   "cell_type": "code",
   "execution_count": 5,
   "metadata": {},
   "outputs": [],
   "source": [
    "def create_test_closed(source, destination, percent):\n",
    "    '''\n",
    "    divides closed eyes images into given percent and moves from\n",
    "    source to destination.\n",
    "    \n",
    "    Arguments:\n",
    "    source(path): path of source directory\n",
    "    destination(path): path of destination directory\n",
    "    percent(float): percent of data to be divided(range: 0 to 1)\n",
    "    '''\n",
    "    path, dirs, files_closed = next(os.walk(source))\n",
    "    file_count_closed = len(files_closed)\n",
    "    percentage = file_count_closed * percent\n",
    "    to_move = random.sample(glob.glob(source + \"/*.png\"), int(percentage))\n",
    "\n",
    "    for f in enumerate(to_move):\n",
    "        if not os.path.exists(destination):\n",
    "            os.makedirs(destination)\n",
    "        shutil.move(f[1], destination)\n",
    "    print(f'moved {int(percentage)} images to the destination successfully.')    "
   ]
  },
  {
   "cell_type": "code",
   "execution_count": 6,
   "metadata": {},
   "outputs": [],
   "source": [
    "def create_test_open(source, destination, percent):\n",
    "    '''\n",
    "    divides open eyes images into given percent and moves from\n",
    "    source to destination.\n",
    "    \n",
    "    Arguments:\n",
    "    source(path): path of source directory\n",
    "    destination(path): path of destination directory\n",
    "    percent(float): percent of data to be divided(range: 0 to 1)\n",
    "    '''\n",
    "    path, dirs, files_open = next(os.walk(source))\n",
    "    file_count_open = len(files_open)\n",
    "    percentage = file_count_open * percent\n",
    "    to_move = random.sample(glob.glob(source + \"/*.png\"), int(percentage))\n",
    "\n",
    "    for f in enumerate(to_move):\n",
    "        if not os.path.exists(destination):\n",
    "            os.makedirs(destination)\n",
    "        shutil.move(f[1], destination)\n",
    "    print(f'moved {int(percentage)} images to the destination successfully.')"
   ]
  },
  {
   "cell_type": "code",
   "execution_count": 7,
   "metadata": {},
   "outputs": [
    {
     "name": "stdout",
     "output_type": "stream",
     "text": [
      "moved 8389 images to the destination successfully.\n"
     ]
    }
   ],
   "source": [
    "create_test_closed('F:/hamza_darling/DD/Prepared Data/Data/train/closed', \n",
    "                    'F:/hamza_darling/DD/Prepared Data/Data/test/closed', \n",
    "                    0.2)"
   ]
  },
  {
   "cell_type": "code",
   "execution_count": 8,
   "metadata": {},
   "outputs": [
    {
     "name": "stdout",
     "output_type": "stream",
     "text": [
      "moved 8590 images to the destination successfully.\n"
     ]
    }
   ],
   "source": [
    "create_test_open('F:/hamza_darling/DD/Prepared Data/Data/train/open', \n",
    "                    'F:/hamza_darling/DD/Prepared Data/Data/test/open', \n",
    "                    0.2)"
   ]
  },
  {
   "cell_type": "code",
   "execution_count": null,
   "metadata": {},
   "outputs": [],
   "source": []
  }
 ],
 "metadata": {
  "kernelspec": {
   "display_name": "Python 3 (ipykernel)",
   "language": "python",
   "name": "python3"
  },
  "language_info": {
   "codemirror_mode": {
    "name": "ipython",
    "version": 3
   },
   "file_extension": ".py",
   "mimetype": "text/x-python",
   "name": "python",
   "nbconvert_exporter": "python",
   "pygments_lexer": "ipython3",
   "version": "3.10.6"
  }
 },
 "nbformat": 4,
 "nbformat_minor": 4
}
